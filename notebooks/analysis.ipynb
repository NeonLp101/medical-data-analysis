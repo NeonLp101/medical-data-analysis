{
 "cells": [
  {
   "cell_type": "code",
   "execution_count": null,
   "metadata": {},
   "outputs": [
    {
     "data": {
      "application/vnd.jupyter.widget-view+json": {
       "model_id": "c4885977344c4ea488d559374d710f7c",
       "version_major": 2,
       "version_minor": 0
      },
      "text/plain": [
       "FileUpload(value=(), accept='.csv', description='Upload')"
      ]
     },
     "metadata": {},
     "output_type": "display_data"
    },
    {
     "name": "stdout",
     "output_type": "stream",
     "text": [
      "⚠️ Bitte eine CSV-Datei hochladen.\n"
     ]
    },
    {
     "ename": "",
     "evalue": "",
     "output_type": "error",
     "traceback": [
      "\u001b[1;31mThe Kernel crashed while executing code in the current cell or a previous cell. \n",
      "\u001b[1;31mPlease review the code in the cell(s) to identify a possible cause of the failure. \n",
      "\u001b[1;31mClick <a href='https://aka.ms/vscodeJupyterKernelCrash'>here</a> for more info. \n",
      "\u001b[1;31mView Jupyter <a href='command:jupyter.viewOutput'>log</a> for further details."
     ]
    }
   ],
   "source": [
    "# 1. Import der benötigten Bibliotheken\n",
    "import pandas as pd  \n",
    "import matplotlib.pyplot as plt  \n",
    "import seaborn as sns  \n",
    "from ipywidgets import interact, FileUpload  \n",
    "import io  \n",
    "\n",
    "# 2. Erstellen eines Datei-Upload Widgets\n",
    "# Das Widget erlaubt dem Nutzer, eine CSV-Datei hochzuladen, die später analysiert wird.\n",
    "upload = FileUpload(accept=\".csv\")  # Nur CSV-Dateien sind erlaubt\n",
    "display(upload)  # Zeigt das Upload-Widget im Notebook an\n",
    "\n",
    "# 3. Funktion zum Laden der hochgeladenen CSV-Datei\n",
    "def load_csv(upload):\n",
    "    \"\"\"\n",
    "    Lädt eine hochgeladene CSV-Datei und gibt sie als Pandas DataFrame zurück.\n",
    "    \n",
    "    Parameter:\n",
    "    upload: Das hochgeladene Datei-Objekt aus dem FileUpload-Widget.\n",
    "\n",
    "    Rückgabe:\n",
    "    df (DataFrame): Der geladene DataFrame oder None, falls keine Datei vorhanden ist.\n",
    "    \"\"\"\n",
    "    if not upload.value:  # Falls keine Datei hochgeladen wurde, wird eine Warnung ausgegeben\n",
    "        print(\"Fehler: Bitte eine CSV-Datei hochladen.\")\n",
    "        return None\n",
    "    \n",
    "    uploaded_file = next(iter(upload.value.values()))  # Nimmt die erste hochgeladene Datei aus der Liste\n",
    "    df = pd.read_csv(io.BytesIO(uploaded_file['content']))  # Konvertiert die Datei in einen Pandas DataFrame\n",
    "    print(f\"Erfolgreich geladen: '{uploaded_file['metadata']['name']}'\")  \n",
    "    return df\n",
    "\n",
    "# 4. Einlesen der hochgeladenen CSV-Datei\n",
    "df = load_csv(upload)\n",
    "\n",
    "# 5. Erste Analyse der geladenen Daten\n",
    "if df is not None:\n",
    "    print(\"\\nErste fünf Zeilen des Datensatzes:\")\n",
    "    display(df.head())  # Zeigt die ersten fünf Zeilen, um einen ersten Eindruck zu bekommen\n",
    "\n",
    "    print(\"\\nAllgemeine Informationen über die Datenstruktur:\")\n",
    "    print(df.info())  # Zeigt Anzahl der Zeilen/Spalten, Datentypen und Speicherverbrauch\n",
    "\n",
    "    print(\"\\nStatistische Analyse der numerischen Spalten:\")\n",
    "    display(df.describe())  # Berechnet Standardstatistiken wie Mittelwert, Min/Max, Perzentile\n",
    "\n",
    "# 6. Automatische Erkennung der Spaltentypen\n",
    "if df is not None:\n",
    "    # Unterscheidung zwischen numerischen und kategorischen Spalten\n",
    "    numerical_columns = df.select_dtypes(include=['number']).columns.tolist()  # Alle numerischen Spalten extrahieren\n",
    "    categorical_columns = df.select_dtypes(exclude=['number']).columns.tolist()  # Alle nicht-numerischen Spalten extrahieren\n",
    "    \n",
    "    print(f\"\\nErkannte numerische Spalten: {numerical_columns}\")\n",
    "    print(f\"Erkannte kategorische Spalten: {categorical_columns}\")\n",
    "\n",
    "# 7. Visualisierung der Verteilung numerischer Spalten mit Histogrammen\n",
    "if df is not None and numerical_columns:\n",
    "    print(\"\\nErstellung von Histogrammen für alle numerischen Spalten...\")\n",
    "    for col in numerical_columns:\n",
    "        plt.figure(figsize=(7,4))  # Definiert die Größe des Diagramms\n",
    "        sns.histplot(df[col], bins=30, kde=True, color=\"blue\")  # Erstellt ein Histogramm mit Dichtekurve\n",
    "        plt.title(f\"Verteilung von {col}\")  # Titel des Diagramms\n",
    "        plt.xlabel(col)  # Beschriftung der X-Achse\n",
    "        plt.ylabel(\"Häufigkeit\")  # Beschriftung der Y-Achse\n",
    "        plt.show()  # Zeigt das Diagramm an\n",
    "\n",
    "# 8. Erstellung eines Scatterplots für die ersten zwei numerischen Spalten\n",
    "if df is not None and len(numerical_columns) >= 2:\n",
    "    print(f\"\\nErstellung eines Scatterplots für {numerical_columns[0]} vs. {numerical_columns[1]}...\")\n",
    "    plt.figure(figsize=(8,5))  # Definiert die Größe des Diagramms\n",
    "    sns.scatterplot(x=df[numerical_columns[0]], y=df[numerical_columns[1]], alpha=0.7)  # Erstellt den Scatterplot\n",
    "    plt.title(f\"{numerical_columns[0]} vs. {numerical_columns[1]}\")  # Setzt den Titel\n",
    "    plt.xlabel(numerical_columns[0])  # Beschriftung der X-Achse\n",
    "    plt.ylabel(numerical_columns[1])  # Beschriftung der Y-Achse\n",
    "    plt.show()  # Zeigt das Diagramm an\n"
   ]
  }
 ],
 "metadata": {
  "kernelspec": {
   "display_name": "Python 3",
   "language": "python",
   "name": "python3"
  },
  "language_info": {
   "codemirror_mode": {
    "name": "ipython",
    "version": 3
   },
   "file_extension": ".py",
   "mimetype": "text/x-python",
   "name": "python",
   "nbconvert_exporter": "python",
   "pygments_lexer": "ipython3",
   "version": "3.13.2"
  }
 },
 "nbformat": 4,
 "nbformat_minor": 2
}
